{
 "cells": [
  {
   "cell_type": "markdown",
   "metadata": {},
   "source": [
    "# Getting started II"
   ]
  },
  {
   "cell_type": "markdown",
   "metadata": {},
   "source": [
    "# Model 3 - introduction to vision"
   ]
  },
  {
   "cell_type": "markdown",
   "metadata": {},
   "source": [
    "In the previous two examples we introduced a simple mind that tried to play Memory but instead of that, it just keeps hitting 1 until noone wanted to play with that crazy player anymore.\n",
    "\n",
    "One problem is that our mind can enforce its wishes on the environment, but it cannot take any information from the environment. But playing Memory requires both.\n",
    "\n",
    "There is one way pyactr can take information from the environment, through its visual module.\n",
    "\n",
    "To make it work, we have to initialize the model with an environment."
   ]
  },
  {
   "cell_type": "code",
   "execution_count": 1,
   "metadata": {},
   "outputs": [],
   "source": [
    "import pyactr as actr\n",
    "environment = actr.Environment()\n",
    "playing_memory = actr.ACTRModel(environment=environment)"
   ]
  },
  {
   "cell_type": "markdown",
   "metadata": {},
   "source": [
    "The environment is an artificial computer screen, our mind cannot see more than that. Let's put something on that screen, say, letter A. We do that by specifying visual stimuli, a list of dictionaries. Every dictionary in the list is one set of stimuli that will appear together on the screen. The dictionary has, as its keys, some mnemonic info by which we can easily identify the stimuli that appear together (we can use letter \"A\" for our one stimulus) and, as its values, information for the environment about the parameters of each stimulus. The parameters are written as another dictionary. At least two parameters have to be explicit: the x-y position of the stimulus (on a 640x360 screen) and the text that the stimulus has. This leads to the following stimuli (the first dictionary is empty because at the beginning nothing appears on the screen):"
   ]
  },
  {
   "cell_type": "code",
   "execution_count": 2,
   "metadata": {},
   "outputs": [],
   "source": [
    "memory = [{}, {\"A\": {'text': 'A', 'position': (100, 100)}}]"
   ]
  },
  {
   "cell_type": "markdown",
   "metadata": {},
   "source": [
    "We will prepare the model in the same way as before, specifying the initial goal buffer with a chunk that states we play a memory. Notice that our starting chunk is very much like it was before, only two more slots are added to it. One slot, \"key\" will express what key the model is about to press. The second slot, \"object\", will express what object was found by that key press. We will use these extra slots in a second."
   ]
  },
  {
   "cell_type": "code",
   "execution_count": 3,
   "metadata": {},
   "outputs": [],
   "source": [
    "goal = playing_memory.set_goal(\"goal\")\n",
    "actr.chunktype(\"playgame\", \"game, activity, key, object\")\n",
    "initial_chunk = actr.makechunk(typename=\"playgame\", game=\"memory\", key=\"1\")\n",
    "goal.add(initial_chunk)"
   ]
  },
  {
   "cell_type": "markdown",
   "metadata": {},
   "source": [
    "Now, onto the rules. The first two rules did not change significantly. There is only one simplifying change: since we specified already at the initial step what key will be pressed, we don't have to do it again in the \"presskey\" rule. Rather, we will make that action dependent on the information in the goal buffer. This is done by variable binding: \"=k\" in the goal buffer binds the value of the slot \"key\" to the variable \"k\"; this value is then re-used whenever \"=k\" appears again, that is, in the key slot of the manual buffer. As a consequence, the key slot in the manual buffer will carry the same value as the key slot in the goal buffer after this rule fires."
   ]
  },
  {
   "cell_type": "code",
   "execution_count": 4,
   "metadata": {},
   "outputs": [
    {
     "data": {
      "text/plain": [
       "{'=goal': playgame(activity= presskey, game= memory, key= =k, object= )}\n",
       "==>\n",
       "{'=goal': playgame(activity= attend, game= , key= , object= ), '+manual': _manual(cmd= press_key, key= =k)}"
      ]
     },
     "execution_count": 4,
     "metadata": {},
     "output_type": "execute_result"
    }
   ],
   "source": [
    "playing_memory.productionstring(name=\"startplaying\", string=\"\"\"\n",
    "=goal>\n",
    "isa  playgame\n",
    "game memory\n",
    "activity None\n",
    "==>\n",
    "=goal>\n",
    "isa playgame\n",
    "activity presskey\"\"\") #to be modified later\n",
    "\n",
    "playing_memory.productionstring(name=\"presskey\", string=\"\"\"\n",
    "=goal>\n",
    "isa  playgame\n",
    "game memory\n",
    "activity presskey\n",
    "key =k\n",
    "==>\n",
    "+manual>\n",
    "isa _manual\n",
    "cmd press_key\n",
    "key =k\n",
    "=goal>\n",
    "isa playgame\n",
    "activity attend\"\"\")"
   ]
  },
  {
   "cell_type": "markdown",
   "metadata": {},
   "source": [
    "Apart from this old stuff, we add a new rule. It expresses what happens after a key press is done and, hopefully, some information appeared on the screen. Basically, the rule will move the mind's attention to the object located on the screen (the object itself is first automatically found by the visual\\_location buffer).\n",
    "\n",
    "There are two new bits in this rule. The first new bit is that we check on the visual\\_location buffer in the condition. If some visual\\_location is present (that is, the model knows that an object is located on the screen), attention is moved to the object. The second new bit is the last four lines of the rule. This sets a peripheral in action. The description of the action is not much different from pressing a key. The action concerns the visual buffer this time: what happens is that the visual attention is moved (command move\\_attention) to the position specified by the visual\\_location buffer."
   ]
  },
  {
   "cell_type": "code",
   "execution_count": 5,
   "metadata": {},
   "outputs": [
    {
     "data": {
      "text/plain": [
       "{'=visual_location': _visuallocation(color= , screen_x= , screen_y= , value= ), '=goal': playgame(activity= attend, game= memory, key= , object= ), '?manual': {'state': 'free'}}\n",
       "==>\n",
       "{'+visual': _visual(cmd= move_attention, color= , screen_pos= =visual_location, value= ), '=goal': playgame(activity= storeobject, game= , key= , object= )}"
      ]
     },
     "execution_count": 5,
     "metadata": {},
     "output_type": "execute_result"
    }
   ],
   "source": [
    "playing_memory.productionstring(name=\"attendobject\", string=\"\"\"\n",
    "=goal>\n",
    "isa  playgame\n",
    "game memory\n",
    "activity attend\n",
    "=visual_location>\n",
    "isa _visuallocation\n",
    "?manual>\n",
    "state free\n",
    "==>\n",
    "=goal>\n",
    "isa playgame\n",
    "activity storeobject\n",
    "+visual>\n",
    "isa _visual\n",
    "cmd     move_attention\n",
    "screen_pos =visual_location\"\"\")"
   ]
  },
  {
   "cell_type": "markdown",
   "metadata": {},
   "source": [
    "Finally, we will store the visual information in the goal buffer. This is done again by variable binding: we specify that whatever is the value in the current visual attention is bound to \"v\" (by setting \"value =v\"); this v is then transferred as the value of the goal buffer. In the end, the goal buffer carries two pieces of crucial information: what key was pressed and what visual object appeared with that key press."
   ]
  },
  {
   "cell_type": "code",
   "execution_count": 6,
   "metadata": {},
   "outputs": [
    {
     "data": {
      "text/plain": [
       "{'=goal': playgame(activity= storeobject, game= memory, key= , object= ), '=visual': _visual(cmd= , color= , screen_pos= , value= =v)}\n",
       "==>\n",
       "{'=goal': playgame(activity= None, game= , key= , object= =v)}"
      ]
     },
     "execution_count": 6,
     "metadata": {},
     "output_type": "execute_result"
    }
   ],
   "source": [
    "playing_memory.productionstring(name=\"storeobject\", string=\"\"\"\n",
    "=goal>\n",
    "isa  playgame\n",
    "game memory\n",
    "activity storeobject\n",
    "=visual>\n",
    "isa _visual\n",
    "value =v\n",
    "==>\n",
    "=goal>\n",
    "isa playgame\n",
    "activity None\n",
    "object =v\"\"\")"
   ]
  },
  {
   "cell_type": "markdown",
   "metadata": {},
   "source": [
    "We can now run simulation with these four rules.\n",
    "\n",
    "The simulation is started as in previous cases, with one small modification. We have to specify what environment process it should be tied to. The class Environment specifies one process, which proceeds by printing one stimulus after another whenever a trigger is pressed, or time expires. We use it here. Following parameters (stimuli and triggers) are parameters supplied to this process.\n",
    "\n",
    "Finally we also set gui to False to let the environment print its information directly in the trace. If we set it to True, the environment would appear in a separate window. Setting gui to True requires tkinter.\n"
   ]
  },
  {
   "cell_type": "code",
   "execution_count": 7,
   "metadata": {},
   "outputs": [
    {
     "name": "stdout",
     "output_type": "stream",
     "text": [
      "(0, 'PROCEDURAL', 'CONFLICT RESOLUTION')\n",
      "(0, 'PROCEDURAL', 'RULE SELECTED: startplaying')\n",
      "****Environment: {}\n",
      "(0.05, 'PROCEDURAL', 'RULE FIRED: startplaying')\n",
      "(0.05, 'goal', 'MODIFIED')\n",
      "(0.05, 'PROCEDURAL', 'CONFLICT RESOLUTION')\n",
      "(0.05, 'PROCEDURAL', 'RULE SELECTED: presskey')\n",
      "(0.1, 'PROCEDURAL', 'RULE FIRED: presskey')\n",
      "(0.1, 'goal', 'MODIFIED')\n",
      "(0.1, 'manual', 'COMMAND: press_key')\n",
      "(0.1, 'PROCEDURAL', 'CONFLICT RESOLUTION')\n",
      "(0.1, 'PROCEDURAL', 'NO RULE FOUND')\n",
      "(0.35, 'manual', 'PREPARATION COMPLETE')\n",
      "(0.35, 'PROCEDURAL', 'CONFLICT RESOLUTION')\n",
      "(0.35, 'PROCEDURAL', 'NO RULE FOUND')\n",
      "(0.4, 'manual', 'INITIATION COMPLETE')\n",
      "(0.4, 'PROCEDURAL', 'CONFLICT RESOLUTION')\n",
      "(0.4, 'PROCEDURAL', 'NO RULE FOUND')\n",
      "(0.5, 'manual', 'KEY PRESSED: 1')\n",
      "****Environment: {'A': {'text': 'A', 'position': (100, 100)}}\n",
      "(0.5, 'visual_location', 'ENCODED LOCATION: _visuallocation(color= , screen_x= 100, screen_y= 100, value= )')\n",
      "(0.5, 'PROCEDURAL', 'CONFLICT RESOLUTION')\n",
      "(0.5, 'PROCEDURAL', 'NO RULE FOUND')\n",
      "(0.65, 'manual', 'MOVEMENT FINISHED')\n",
      "(0.65, 'PROCEDURAL', 'CONFLICT RESOLUTION')\n",
      "(0.65, 'PROCEDURAL', 'RULE SELECTED: attendobject')\n",
      "(0.7, 'PROCEDURAL', 'RULE FIRED: attendobject')\n",
      "(0.7, 'goal', 'MODIFIED')\n",
      "(0.7, 'visual', 'PREPARATION TO SHIFT VISUAL ATTENTION STARTED')\n",
      "(0.7, 'PROCEDURAL', 'CONFLICT RESOLUTION')\n",
      "(0.7, 'PROCEDURAL', 'NO RULE FOUND')\n",
      "(0.7121, 'visual', 'CLEARED')\n",
      "(0.7121, 'visual', \"ENCODED VIS OBJECT:'_visual(cmd= move_attention, color= , screen_pos= _visuallocation(color= , screen_x= 100, screen_y= 100, value= ), value= A)'\")\n",
      "(0.7121, 'PROCEDURAL', 'CONFLICT RESOLUTION')\n",
      "(0.7121, 'PROCEDURAL', 'RULE SELECTED: storeobject')\n",
      "(0.7621, 'PROCEDURAL', 'RULE FIRED: storeobject')\n",
      "(0.7621, 'goal', 'MODIFIED')\n",
      "(0.7621, 'PROCEDURAL', 'CONFLICT RESOLUTION')\n",
      "(0.7621, 'PROCEDURAL', 'RULE SELECTED: startplaying')\n",
      "(0.8121, 'PROCEDURAL', 'RULE FIRED: startplaying')\n",
      "(0.8121, 'goal', 'MODIFIED')\n",
      "(0.8121, 'PROCEDURAL', 'CONFLICT RESOLUTION')\n",
      "(0.8121, 'PROCEDURAL', 'RULE SELECTED: presskey')\n",
      "(0.8621, 'PROCEDURAL', 'RULE FIRED: presskey')\n",
      "(0.8621, 'goal', 'MODIFIED')\n",
      "(0.8621, 'manual', 'COMMAND: press_key')\n",
      "(0.8621, 'manual', 'PREPARATION COMPLETE')\n",
      "(0.8621, 'PROCEDURAL', 'CONFLICT RESOLUTION')\n",
      "(0.8621, 'PROCEDURAL', 'NO RULE FOUND')\n",
      "(0.8701, 'visual', 'PREPARATION TO SHIFT VISUAL ATTENTION COMPLETED')\n",
      "(0.8701, 'PROCEDURAL', 'CONFLICT RESOLUTION')\n",
      "(0.8701, 'PROCEDURAL', 'NO RULE FOUND')\n",
      "(0.9121, 'manual', 'INITIATION COMPLETE')\n",
      "(0.9121, 'PROCEDURAL', 'CONFLICT RESOLUTION')\n",
      "(0.9121, 'PROCEDURAL', 'NO RULE FOUND')\n",
      "(0.9315, 'visual', 'SHIFT COMPLETE TO POSITION: [100, 100]')\n",
      "(0.9315, 'PROCEDURAL', 'CONFLICT RESOLUTION')\n",
      "(0.9315, 'PROCEDURAL', 'NO RULE FOUND')\n"
     ]
    }
   ],
   "source": [
    "simulation = playing_memory.simulation(gui=False, environment_process=environment.environment_process, stimuli=memory, triggers='1')\n",
    "simulation.run()"
   ]
  },
  {
   "cell_type": "markdown",
   "metadata": {},
   "source": [
    "Inspecting the goal buffer reveals that we correctly updated the chunk with the information that key \"1\" corresponds to object \"A\"."
   ]
  },
  {
   "cell_type": "code",
   "execution_count": 8,
   "metadata": {},
   "outputs": [
    {
     "name": "stdout",
     "output_type": "stream",
     "text": [
      "{playgame(activity= attend, game= memory, key= 1, object= A)}\n"
     ]
    }
   ],
   "source": [
    "print(goal)"
   ]
  },
  {
   "cell_type": "markdown",
   "metadata": {},
   "source": [
    "This might look a bit more like Memory, but there is definitely at least one thing missing. The mind stores only one key-object pair. This would not get us very far in the game.\n",
    "\n",
    "In a nutshell, the problem is that our model is memoryless. In fact, any past knowledge is irrelevant. A future action is decided just based on the current contents of the buffers. We will remove the limitation in the following model."
   ]
  },
  {
   "cell_type": "markdown",
   "metadata": {},
   "source": [
    "# Model 4 - introduction to declarative memory"
   ]
  },
  {
   "cell_type": "markdown",
   "metadata": {},
   "source": [
    "When the mind achieves a goal, the chunk in the goal buffer does not just disappear. It is flushed into the declarative memory. Similarly, when the visual buffer has achieved whatever it should have achieved, its chunk is flushed into the declarative memory. Any chunk can in principle be later recalled (retrieved) from that memory.\n",
    "\n",
    "We will now implement this idea.\n",
    "\n",
    "First, we will modify our \"startplaying\" rule by requiring that this rule only fires in the first round (before any object is recalled)."
   ]
  },
  {
   "cell_type": "code",
   "execution_count": 9,
   "metadata": {},
   "outputs": [
    {
     "data": {
      "text/plain": [
       "{'=goal': playgame(activity= None, game= memory, key= , object= None)}\n",
       "==>\n",
       "{'=goal': playgame(activity= presskey, game= , key= , object= )}"
      ]
     },
     "execution_count": 9,
     "metadata": {},
     "output_type": "execute_result"
    }
   ],
   "source": [
    "playing_memory.productionstring(name=\"startplaying\", string=\"\"\"\n",
    "=goal>\n",
    "isa  playgame\n",
    "game memory\n",
    "activity None\n",
    "object None\n",
    "==>\n",
    "=goal>\n",
    "isa playgame\n",
    "activity presskey\"\"\")"
   ]
  },
  {
   "cell_type": "markdown",
   "metadata": {},
   "source": [
    "In contrast to that rule, \"continueplaying\" will only fire when the goal buffer has some value in the slot \"object\". This is required by setting \"object ~None\" (~ negates a value that follows). \n",
    "\n",
    "If this is so, we let the model proceed to recalling."
   ]
  },
  {
   "cell_type": "code",
   "execution_count": 10,
   "metadata": {},
   "outputs": [
    {
     "data": {
      "text/plain": [
       "{'=goal': playgame(activity= None, game= memory, key= , object= ~None)}\n",
       "==>\n",
       "{'=goal': playgame(activity= recall, game= memory, key= , object= )}"
      ]
     },
     "execution_count": 10,
     "metadata": {},
     "output_type": "execute_result"
    }
   ],
   "source": [
    "playing_memory.productionstring(name=\"continueplaying\", string=\"\"\"\n",
    "=goal>\n",
    "isa  playgame\n",
    "game memory\n",
    "activity None\n",
    "object ~None\n",
    "==>\n",
    "=goal>\n",
    "isa playgame\n",
    "game memory\n",
    "activity recall\"\"\")"
   ]
  },
  {
   "cell_type": "markdown",
   "metadata": {},
   "source": [
    "The following three rules are the meat of this model. They work as follows:\n",
    "\n",
    "1. The rule \"recallvalue\" tries to recall a chunk with particular values.\n",
    "2. The rule \"recallsuccessful\" will terminate the simulation if some chunk was found. If this is so, the goal buffer will signal what key should be pressed next (we will assume that the game stops when one successful pair is found).\n",
    "3. The rule \"recallfailed\" will set the model back into the game if nothing was recalled.\n",
    "\n",
    "The rule \"recallvalue\" is specified below. Recalling is done by using another buffer, \"retrieval\". The buffer will search the declarative memory for any chunk that matches its requirements. In our case, the chunk must have, as its object, whatever value was in the slot \"object\" of the goal buffer. Now, recall that \"object\" carries the information about the visual element that was just inspected. Recalling a chunk that has the same value in the slot \"object\" is only possible if a pair was found."
   ]
  },
  {
   "cell_type": "code",
   "execution_count": 11,
   "metadata": {},
   "outputs": [
    {
     "data": {
      "text/plain": [
       "{'=goal': playgame(activity= recall, game= memory, key= , object= =val)}\n",
       "==>\n",
       "{'+retrieval': playgame(activity= , game= , key= , object= =val), '=goal': playgame(activity= checkrecalled, game= memory, key= , object= )}"
      ]
     },
     "execution_count": 11,
     "metadata": {},
     "output_type": "execute_result"
    }
   ],
   "source": [
    "playing_memory.productionstring(name=\"recallvalue\", string=\"\"\"\n",
    "=goal>\n",
    "isa  playgame\n",
    "game memory\n",
    "activity recall\n",
    "object =val\n",
    "==>\n",
    "=goal>\n",
    "isa  playgame\n",
    "game memory\n",
    "activity checkrecalled\n",
    "+retrieval>\n",
    "isa playgame\n",
    "object =val\"\"\")"
   ]
  },
  {
   "cell_type": "markdown",
   "metadata": {},
   "source": [
    "The rule \"recallsuccessful\" fires only if something was retrieved. This is done by querying whether the retrieval buffer is full. If this is so, we will signal that we are done (\"activity done\") but that the final key must be identical to the one that let us found the first member in the pair."
   ]
  },
  {
   "cell_type": "code",
   "execution_count": 12,
   "metadata": {},
   "outputs": [
    {
     "data": {
      "text/plain": [
       "{'?retrieval': {'buffer': 'full'}, '=retrieval': playgame(activity= , game= , key= =k, object= ), '=goal': playgame(activity= checkrecalled, game= memory, key= , object= =val)}\n",
       "==>\n",
       "{'=goal': playgame(activity= done, game= , key= =k, object= )}"
      ]
     },
     "execution_count": 12,
     "metadata": {},
     "output_type": "execute_result"
    }
   ],
   "source": [
    "playing_memory.productionstring(name=\"recallsuccessful\", string=\"\"\"\n",
    "=goal>\n",
    "isa  playgame\n",
    "game memory\n",
    "activity checkrecalled\n",
    "object =val\n",
    "?retrieval>\n",
    "buffer full\n",
    "=retrieval>\n",
    "isa playgame\n",
    "key =k\n",
    "==>\n",
    "=goal>\n",
    "isa playgame\n",
    "key =k\n",
    "activity done\"\"\")"
   ]
  },
  {
   "cell_type": "markdown",
   "metadata": {},
   "source": [
    "Finally, the last rule states that when the retrieval failed (querying on the retrieval and requiring \"state\" error\"), we should move on:\n",
    "\n",
    "1. In the action, the goal buffer is cleared (~goal>)\n",
    "2. A new chunk is put in the goal buffer which requires that we are to press the next key in the line (key 2)."
   ]
  },
  {
   "cell_type": "code",
   "execution_count": 13,
   "metadata": {},
   "outputs": [
    {
     "data": {
      "text/plain": [
       "{'?retrieval': {'state': 'error'}, '=goal': playgame(activity= checkrecalled, game= memory, key= 1, object= =val)}\n",
       "==>\n",
       "{'~goal': None, '+goal': playgame(activity= presskey, game= memory, key= 2, object= )}"
      ]
     },
     "execution_count": 13,
     "metadata": {},
     "output_type": "execute_result"
    }
   ],
   "source": [
    "playing_memory.productionstring(name=\"recallfailed\", string=\"\"\"\n",
    "=goal>\n",
    "isa  playgame\n",
    "game memory\n",
    "activity checkrecalled\n",
    "key 1\n",
    "object =val\n",
    "?retrieval>\n",
    "state error\n",
    "==>\n",
    "~goal>\n",
    "+goal>\n",
    "isa playgame\n",
    "game memory\n",
    "activity presskey\n",
    "key 2\"\"\")"
   ]
  },
  {
   "cell_type": "markdown",
   "metadata": {},
   "source": [
    "This is all. We now only have to make a new set of stimuli for the game of Memory and let the model run. There are three stimuli present, the empty screen at the start, object \"A\" (which will appear when the model presses 1) and object \"A\" as the last one (this will appear when the model presses 2).\n",
    "\n",
    "The simulation is run for 2 seconds."
   ]
  },
  {
   "cell_type": "code",
   "execution_count": 14,
   "metadata": {},
   "outputs": [],
   "source": [
    "memory = [{}, {\"A\": {'text': 'A', 'position': (100, 100)}}, {\"A\": {'text': 'A', 'position': (100, 100)}}]"
   ]
  },
  {
   "cell_type": "code",
   "execution_count": 15,
   "metadata": {},
   "outputs": [
    {
     "name": "stdout",
     "output_type": "stream",
     "text": [
      "(0, 'PROCEDURAL', 'CONFLICT RESOLUTION')\n",
      "(0, 'PROCEDURAL', 'RULE SELECTED: startplaying')\n",
      "****Environment: {}\n",
      "(0.05, 'PROCEDURAL', 'RULE FIRED: startplaying')\n",
      "(0.05, 'goal', 'MODIFIED')\n",
      "(0.05, 'PROCEDURAL', 'CONFLICT RESOLUTION')\n",
      "(0.05, 'PROCEDURAL', 'RULE SELECTED: presskey')\n",
      "(0.1, 'PROCEDURAL', 'RULE FIRED: presskey')\n",
      "(0.1, 'goal', 'MODIFIED')\n",
      "(0.1, 'manual', 'COMMAND: press_key')\n",
      "(0.1, 'PROCEDURAL', 'CONFLICT RESOLUTION')\n",
      "(0.1, 'PROCEDURAL', 'NO RULE FOUND')\n",
      "(0.35, 'manual', 'PREPARATION COMPLETE')\n",
      "(0.35, 'PROCEDURAL', 'CONFLICT RESOLUTION')\n",
      "(0.35, 'PROCEDURAL', 'NO RULE FOUND')\n",
      "(0.4, 'manual', 'INITIATION COMPLETE')\n",
      "(0.4, 'PROCEDURAL', 'CONFLICT RESOLUTION')\n",
      "(0.4, 'PROCEDURAL', 'NO RULE FOUND')\n",
      "(0.5, 'manual', 'KEY PRESSED: 1')\n",
      "****Environment: {'A': {'text': 'A', 'position': (100, 100)}}\n",
      "(0.5, 'visual_location', 'ENCODED LOCATION: _visuallocation(color= , screen_x= 100, screen_y= 100, value= )')\n",
      "(0.5, 'PROCEDURAL', 'CONFLICT RESOLUTION')\n",
      "(0.5, 'PROCEDURAL', 'NO RULE FOUND')\n",
      "(0.5096, 'visual', 'AUTOMATIC BUFFERING: _visual(cmd= , color= , screen_pos= _visuallocation(color= , screen_x= 100, screen_y= 100, value= ), value= A)')\n",
      "(0.5096, 'PROCEDURAL', 'CONFLICT RESOLUTION')\n",
      "(0.5096, 'PROCEDURAL', 'NO RULE FOUND')\n",
      "(0.65, 'manual', 'MOVEMENT FINISHED')\n",
      "(0.65, 'PROCEDURAL', 'CONFLICT RESOLUTION')\n",
      "(0.65, 'PROCEDURAL', 'RULE SELECTED: attendobject')\n",
      "(0.7, 'PROCEDURAL', 'RULE FIRED: attendobject')\n",
      "(0.7, 'goal', 'MODIFIED')\n",
      "(0.7, 'visual', 'PREPARATION TO SHIFT VISUAL ATTENTION STARTED')\n",
      "(0.7, 'PROCEDURAL', 'CONFLICT RESOLUTION')\n",
      "(0.7, 'PROCEDURAL', 'NO RULE FOUND')\n",
      "(0.7086, 'visual', 'CLEARED')\n",
      "(0.7086, 'visual', \"ENCODED VIS OBJECT:'_visual(cmd= move_attention, color= , screen_pos= _visuallocation(color= , screen_x= 100, screen_y= 100, value= ), value= A)'\")\n",
      "(0.7086, 'PROCEDURAL', 'CONFLICT RESOLUTION')\n",
      "(0.7086, 'PROCEDURAL', 'RULE SELECTED: storeobject')\n",
      "(0.7586, 'PROCEDURAL', 'RULE FIRED: storeobject')\n",
      "(0.7586, 'goal', 'MODIFIED')\n",
      "(0.7586, 'PROCEDURAL', 'CONFLICT RESOLUTION')\n",
      "(0.7586, 'PROCEDURAL', 'RULE SELECTED: continueplaying')\n",
      "(0.8086, 'PROCEDURAL', 'RULE FIRED: continueplaying')\n",
      "(0.8086, 'goal', 'MODIFIED')\n",
      "(0.8086, 'PROCEDURAL', 'CONFLICT RESOLUTION')\n",
      "(0.8086, 'PROCEDURAL', 'RULE SELECTED: recallvalue')\n",
      "(0.8586, 'PROCEDURAL', 'RULE FIRED: recallvalue')\n",
      "(0.8586, 'goal', 'MODIFIED')\n",
      "(0.8586, 'retrieval', 'START RETRIEVAL')\n",
      "(0.8586, 'PROCEDURAL', 'CONFLICT RESOLUTION')\n",
      "(0.8586, 'PROCEDURAL', 'NO RULE FOUND')\n",
      "(0.8682, 'visual', 'PREPARATION TO SHIFT VISUAL ATTENTION COMPLETED')\n",
      "(0.8682, 'PROCEDURAL', 'CONFLICT RESOLUTION')\n",
      "(0.8682, 'PROCEDURAL', 'NO RULE FOUND')\n",
      "(0.9086, 'retrieval', 'RETRIEVED: None')\n",
      "(0.9086, 'PROCEDURAL', 'CONFLICT RESOLUTION')\n",
      "(0.9086, 'PROCEDURAL', 'RULE SELECTED: recallfailed')\n",
      "(0.9586, 'PROCEDURAL', 'RULE FIRED: recallfailed')\n",
      "(0.9586, 'goal', 'CLEARED')\n",
      "(0.9586, 'goal', 'CLEARED')\n",
      "(0.9586, 'goal', 'CREATED A CHUNK: playgame(activity= presskey, game= memory, key= 2, object= )')\n",
      "(0.9586, 'PROCEDURAL', 'CONFLICT RESOLUTION')\n",
      "(0.9586, 'PROCEDURAL', 'RULE SELECTED: presskey')\n",
      "(1.0028, 'visual', 'SHIFT COMPLETE TO POSITION: [100, 100]')\n",
      "(1.0086, 'PROCEDURAL', 'RULE FIRED: presskey')\n",
      "(1.0086, 'goal', 'MODIFIED')\n",
      "(1.0086, 'manual', 'COMMAND: press_key')\n",
      "(1.0086, 'PROCEDURAL', 'CONFLICT RESOLUTION')\n",
      "(1.0086, 'PROCEDURAL', 'NO RULE FOUND')\n",
      "(1.1586, 'manual', 'PREPARATION COMPLETE')\n",
      "(1.1586, 'PROCEDURAL', 'CONFLICT RESOLUTION')\n",
      "(1.1586, 'PROCEDURAL', 'NO RULE FOUND')\n",
      "(1.2086, 'manual', 'INITIATION COMPLETE')\n",
      "(1.2086, 'PROCEDURAL', 'CONFLICT RESOLUTION')\n",
      "(1.2086, 'PROCEDURAL', 'NO RULE FOUND')\n",
      "(1.3086, 'manual', 'KEY PRESSED: 2')\n",
      "****Environment: {'A': {'text': 'A', 'position': (100, 100)}}\n",
      "(1.3086, 'PROCEDURAL', 'CONFLICT RESOLUTION')\n",
      "(1.3086, 'PROCEDURAL', 'NO RULE FOUND')\n",
      "(1.3211, 'visual', 'AUTOMATIC BUFFERING: _visual(cmd= , color= , screen_pos= _visuallocation(color= , screen_x= 100, screen_y= 100, value= ), value= A)')\n",
      "(1.3211, 'PROCEDURAL', 'CONFLICT RESOLUTION')\n",
      "(1.3211, 'PROCEDURAL', 'NO RULE FOUND')\n",
      "(1.4586, 'manual', 'MOVEMENT FINISHED')\n",
      "(1.4586, 'PROCEDURAL', 'CONFLICT RESOLUTION')\n",
      "(1.4586, 'PROCEDURAL', 'RULE SELECTED: attendobject')\n",
      "(1.5086, 'PROCEDURAL', 'RULE FIRED: attendobject')\n",
      "(1.5086, 'goal', 'MODIFIED')\n",
      "(1.5086, 'visual', 'PREPARATION TO SHIFT VISUAL ATTENTION STARTED')\n",
      "(1.5086, 'PROCEDURAL', 'CONFLICT RESOLUTION')\n",
      "(1.5086, 'PROCEDURAL', 'NO RULE FOUND')\n",
      "(1.5165, 'visual', 'CLEARED')\n",
      "(1.5165, 'visual', \"ENCODED VIS OBJECT:'_visual(cmd= move_attention, color= , screen_pos= _visuallocation(color= , screen_x= 100, screen_y= 100, value= ), value= A)'\")\n",
      "(1.5165, 'PROCEDURAL', 'CONFLICT RESOLUTION')\n",
      "(1.5165, 'PROCEDURAL', 'RULE SELECTED: storeobject')\n",
      "(1.5665, 'PROCEDURAL', 'RULE FIRED: storeobject')\n",
      "(1.5665, 'goal', 'MODIFIED')\n",
      "(1.5665, 'PROCEDURAL', 'CONFLICT RESOLUTION')\n",
      "(1.5665, 'PROCEDURAL', 'RULE SELECTED: continueplaying')\n",
      "(1.6155, 'visual', 'PREPARATION TO SHIFT VISUAL ATTENTION COMPLETED')\n",
      "(1.6165, 'PROCEDURAL', 'RULE FIRED: continueplaying')\n",
      "(1.6165, 'goal', 'MODIFIED')\n",
      "(1.6165, 'PROCEDURAL', 'CONFLICT RESOLUTION')\n",
      "(1.6165, 'PROCEDURAL', 'RULE SELECTED: recallvalue')\n",
      "(1.6665, 'PROCEDURAL', 'RULE FIRED: recallvalue')\n",
      "(1.6665, 'goal', 'MODIFIED')\n",
      "(1.6665, 'retrieval', 'START RETRIEVAL')\n",
      "(1.6665, 'PROCEDURAL', 'CONFLICT RESOLUTION')\n",
      "(1.6665, 'PROCEDURAL', 'NO RULE FOUND')\n",
      "(1.7165, 'retrieval', 'CLEARED')\n",
      "(1.7165, 'retrieval', 'RETRIEVED: playgame(activity= checkrecalled, game= memory, key= 1, object= A)')\n",
      "(1.7165, 'PROCEDURAL', 'CONFLICT RESOLUTION')\n",
      "(1.7165, 'PROCEDURAL', 'RULE SELECTED: recallsuccessful')\n",
      "(1.724, 'visual', 'SHIFT COMPLETE TO POSITION: [100, 100]')\n",
      "(1.7665, 'PROCEDURAL', 'RULE FIRED: recallsuccessful')\n",
      "(1.7665, 'goal', 'MODIFIED')\n",
      "(1.7665, 'PROCEDURAL', 'CONFLICT RESOLUTION')\n",
      "(1.7665, 'PROCEDURAL', 'NO RULE FOUND')\n"
     ]
    }
   ],
   "source": [
    "goal.add(initial_chunk)\n",
    "simulation = playing_memory.simulation(gui=False, environment_process=environment.environment_process, stimuli=memory, triggers=['1', '2', '3'])\n",
    "simulation.run(max_time=2)"
   ]
  },
  {
   "cell_type": "markdown",
   "metadata": {},
   "source": [
    "Everything looks correct, but to be sure we can check that the goal buffer is done at the end and that it states that the other member of the pair \"A\"-\"A\" appeared when 1 was pressed."
   ]
  },
  {
   "cell_type": "code",
   "execution_count": 16,
   "metadata": {},
   "outputs": [
    {
     "name": "stdout",
     "output_type": "stream",
     "text": [
      "{playgame(activity= done, game= memory, key= 1, object= A)}\n"
     ]
    }
   ],
   "source": [
    "print(goal)"
   ]
  },
  {
   "cell_type": "markdown",
   "metadata": {},
   "source": [
    "And as we are at it, we can also check what our declarative memory looks like. This will print all chunks that are in the memory, along with the time stamps at which they were introduced. Note that chunks from the visual module appears here, as well."
   ]
  },
  {
   "cell_type": "code",
   "execution_count": 17,
   "metadata": {},
   "outputs": [
    {
     "name": "stdout",
     "output_type": "stream",
     "text": [
      "{_visual(cmd= move_attention, color= None, screen_pos= _visuallocation(color= , screen_x= 100, screen_y= 100, value= ), value= A): array([ 1.5165]), playgame(activity= checkrecalled, game= memory, key= 1, object= A): array([ 0.9586]), _visual(cmd= , color= , screen_pos= _visuallocation(color= , screen_x= 100, screen_y= 100, value= ), value= A): array([ 0.7086])}\n"
     ]
    }
   ],
   "source": [
    "print(playing_memory.decmem)"
   ]
  },
  {
   "cell_type": "markdown",
   "metadata": {},
   "source": [
    "This is ok. Now, we mentioned that our game of Memory should ideally consist of more cards, revealed by pressing 1,2,...,9.\n",
    "\n",
    "To finalize this game, we have to do create 9 versions of \"recallfailed\", depending on the key that should be pressed.\n",
    "\n",
    "We can make all the rules in one loop, as follows:"
   ]
  },
  {
   "cell_type": "code",
   "execution_count": 18,
   "metadata": {},
   "outputs": [
    {
     "data": {
      "text/plain": [
       "{'?retrieval': {'state': 'error'}, '=goal': playgame(activity= checkrecalled, game= memory, key= 0, object= =val)}\n",
       "==>\n",
       "{'~goal': None}"
      ]
     },
     "execution_count": 18,
     "metadata": {},
     "output_type": "execute_result"
    }
   ],
   "source": [
    "for i in range(1, 9):\n",
    "    playing_memory.productionstring(name=\"recallfailed\" + str(i), string=\"\"\"\n",
    "    =goal>\n",
    "    isa  playgame\n",
    "    game memory\n",
    "    activity checkrecalled\n",
    "    key \"\"\"+ str(i) +\"\"\"\n",
    "    object =val\n",
    "    ?retrieval>\n",
    "    state error\n",
    "    ==>\n",
    "    ~goal>\n",
    "    +goal>\n",
    "    isa playgame\n",
    "    game memory\n",
    "    activity presskey\n",
    "    key \"\"\" + str((i+1)%10))\n",
    "    \n",
    "playing_memory.productionstring(name=\"recallfailed9\", string=\"\"\"\n",
    "=goal>\n",
    "isa  playgame\n",
    "game memory\n",
    "activity checkrecalled\n",
    "key 0\n",
    "object =val\n",
    "?retrieval>\n",
    "state error\n",
    "==>\n",
    "~goal>\"\"\")"
   ]
  },
  {
   "cell_type": "markdown",
   "metadata": {},
   "source": [
    "Notice that these rules will be called \"recallfailed1\"...\"recallfailed9\". They will increment the number that should be pressed whenever the retrieval failed.\n",
    "\n",
    "Now, we only need to have a big enough list of stimuli and prepare the simulation."
   ]
  },
  {
   "cell_type": "code",
   "execution_count": 19,
   "metadata": {},
   "outputs": [],
   "source": [
    "memory = [{}] + [{i: {'text': i, 'position': (100, 100)}} for i in \"BCDEFGHDIJ\"]\n",
    "goal.add(initial_chunk)\n",
    "playing_memory.retrieval.pop()\n",
    "simulation = playing_memory.simulation(environment_process=environment.environment_process, stimuli=memory, triggers=[str(i%10) for i in range(1,11)] + ['0'])"
   ]
  },
  {
   "cell_type": "markdown",
   "metadata": {},
   "source": [
    "We could run the simulation but it would take a lot of space. So instead of that, we will proceed step-wise. We will run a loop. At every turn of the loop, one step of the simulation is taken. (One step corresponds to one line in the trace of the model.) We can then inspect whether the retrieval was successful. We do so by checking whether the current action in the simulation is the rule \"recallsuccessful\". If it is, we break."
   ]
  },
  {
   "cell_type": "code",
   "execution_count": 20,
   "metadata": {},
   "outputs": [],
   "source": [
    "while True:\n",
    "    simulation.step()\n",
    "    if simulation.current_event.action == \"RULE FIRED: recallsuccessful\":\n",
    "        break"
   ]
  },
  {
   "cell_type": "markdown",
   "metadata": {},
   "source": [
    "The final piece is to inspect the resulting goal buffer. Notice that based on what we specified in our stimuli (memory), we expect that the model should find that there is one match, \"D\", and the first member of the pair appeared when the key \"3\" was pressed."
   ]
  },
  {
   "cell_type": "code",
   "execution_count": 21,
   "metadata": {},
   "outputs": [
    {
     "name": "stdout",
     "output_type": "stream",
     "text": [
      "{playgame(activity= done, game= memory, key= 3, object= D)}\n"
     ]
    }
   ],
   "source": [
    "print(goal)"
   ]
  },
  {
   "cell_type": "markdown",
   "metadata": {},
   "source": [
    "As a final bit, let us check how much time the whole memory game took."
   ]
  },
  {
   "cell_type": "code",
   "execution_count": 22,
   "metadata": {},
   "outputs": [
    {
     "name": "stdout",
     "output_type": "stream",
     "text": [
      "6.7147\n"
     ]
    }
   ],
   "source": [
    "print(simulation.show_time())"
   ]
  },
  {
   "cell_type": "markdown",
   "metadata": {},
   "source": [
    "# Final model - introduction to sub-symbolic system"
   ]
  },
  {
   "cell_type": "markdown",
   "metadata": {},
   "source": [
    "The models that we considered here are rather simple and boring from the perspective of AI, Machine Learning etc. So why do people use ACT-R?\n",
    "\n",
    "One reason is that ACT-R strikes a nice balance between the level of abstractness and the level of precision. The models are abstract enough so that modelers can quite quickly draw a simulation of a task they are interested in. At the same time, the models are no hand-waving, quite a lot of details have to be specified. Due to this, the models make precise predictions re behavioral data, in particular, how much time a task is predicted to take, how often people fail in the task etc. The main reason to use ACT-R is to have a precise model at hand that can simulate such behavioral data in enough detail.\n",
    "\n",
    "An ACT-R model is linked to quantitative measures through the sub-symbolic system. Let us switch it on and run the last simulation again.\n",
    "\n",
    "We switch it on (along with other parameters) by changing a value in the dictionary model\\_parameters."
   ]
  },
  {
   "cell_type": "code",
   "execution_count": 23,
   "metadata": {},
   "outputs": [],
   "source": [
    "playing_memory.model_parameters[\"subsymbolic\"] = True"
   ]
  },
  {
   "cell_type": "code",
   "execution_count": 24,
   "metadata": {},
   "outputs": [],
   "source": [
    "goal.add(initial_chunk)\n",
    "playing_memory.retrieval.pop()\n",
    "for i in playing_memory.decmem.copy():\n",
    "    playing_memory.decmem.pop(i)\n",
    "simulation = playing_memory.simulation(environment_process=environment.environment_process, stimuli=memory, triggers=[str(i%10) for i in range(1,11)] + ['0'])"
   ]
  },
  {
   "cell_type": "code",
   "execution_count": 25,
   "metadata": {},
   "outputs": [
    {
     "name": "stdout",
     "output_type": "stream",
     "text": [
      "Nothing found, breaking\n"
     ]
    }
   ],
   "source": [
    "while True:\n",
    "    simulation.step()\n",
    "    if simulation.current_event.action == \"RULE FIRED: recallsuccessful\":\n",
    "        break\n",
    "    if simulation.show_time() > 10: #10 seconds is enough time to go through the cards\n",
    "        print(\"Nothing found, breaking\")\n",
    "        break"
   ]
  },
  {
   "cell_type": "markdown",
   "metadata": {},
   "source": [
    "What happened here? Why was nothing found?\n",
    "\n",
    "Here is one way to put it. The goal of the last model (and any model in ACT-R) is not to fulfill some task, find the right answer etc. The goal is to fulfill some task *in the same way as humans would do*. Now, it is possible that people would have hard time to remember the first D at the time they see the second D on the screen, and if they do, so should the model. Whether they do or not is an empirical question. But whatever the findings, the model should mimic the behavior of humans - say, by taking as much time to go through the task as people do, by getting the answer right as often as people do, among other things."
   ]
  },
  {
   "cell_type": "markdown",
   "metadata": {},
   "source": [
    "# Where to go from here?"
   ]
  },
  {
   "cell_type": "markdown",
   "metadata": {},
   "source": [
    "A theoretical introduction to ACT-R can be found in the paper Anderson et al., 2004, An Integrated Theory of the Mind, Psychological Review.\n",
    "\n",
    "An even better, but much longer introduction is in the book Anderson & Lebiere, The Atomic Components of Thought.\n",
    "\n",
    "A hands-on introduction is present in the tutorials written for LISP and available here: http://act-r.psy.cmu.edu/software/\n",
    "Almost all the code from the tutorials was translated into pyactr. Check the folder tutorials here on github for it.\n",
    "\n",
    "Some more information about ACT-R and pyactr is present in the folder docs/ on github."
   ]
  }
 ],
 "metadata": {
  "kernelspec": {
   "display_name": "Python 3",
   "language": "python",
   "name": "python3"
  },
  "language_info": {
   "codemirror_mode": {
    "name": "ipython",
    "version": 3
   },
   "file_extension": ".py",
   "mimetype": "text/x-python",
   "name": "python",
   "nbconvert_exporter": "python",
   "pygments_lexer": "ipython3",
   "version": "3.5.2"
  }
 },
 "nbformat": 4,
 "nbformat_minor": 2
}
