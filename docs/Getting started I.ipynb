{
 "cells": [
  {
   "cell_type": "markdown",
   "metadata": {},
   "source": [
    "# Getting started I"
   ]
  },
  {
   "cell_type": "markdown",
   "metadata": {},
   "source": [
    "We will explain basics of ACT-R and pyactr on several very simple models/minds that play Memory."
   ]
  },
  {
   "cell_type": "markdown",
   "metadata": {},
   "source": [
    "# Model 1 - introduction to the goal buffer and production rules"
   ]
  },
  {
   "cell_type": "markdown",
   "metadata": {},
   "source": [
    "The first model will be a mind that makes just one action - it will plan to turn one card in Memory. It will check that the game to be played is Memory. If so, it will take an action. Let's assume that there are 10 cards that can be uncovered by pressing numbers 1,2,...9,0. Thus, the action should be to press a key with one of the numbers.\n",
    "\n",
    "We create this mind as follows:\n",
    "\n",
    "1. we import the pyactr package and initialize a model (mind)\n",
    "2. we create knowledge that the mind has; this knowledge has two parts:\n",
    "    a) the goal that will be in the mind at the point we start the simulation\n",
    "    b) the production knowledge, consisting of one production rule\n",
    "\n",
    "When this is done, we will run the simulation\n",
    "\n",
    "First, let us import the pyactr package and initialize the mind (point 1)."
   ]
  },
  {
   "cell_type": "code",
   "execution_count": 1,
   "metadata": {},
   "outputs": [],
   "source": [
    "import pyactr as actr\n",
    "\n",
    "playing_memory = actr.ACTRModel()"
   ]
  },
  {
   "cell_type": "markdown",
   "metadata": {},
   "source": [
    "Now we will create the knowledge that the mind has (point 2).\n",
    "\n",
    "First, its current goal. The goal is seen as a container (in ACT-R terminology, a buffer) that carries a chunk. A chunk, in turn, is a list of attribute-value pairs. (Attributes are called slots in ACT-R.)\n",
    "\n",
    "So, let's specify the chunk that the goal will carry. We do that first by defining a chunk type, that is, by defining what slots a chunk in the goal buffer can carry. We will define a chunk type \"playgame\" and assume that there are two slots in that chunk type: \"game\" and \"activity\"."
   ]
  },
  {
   "cell_type": "code",
   "execution_count": 2,
   "metadata": {},
   "outputs": [],
   "source": [
    "actr.chunktype(\"playgame\", \"game, activity\")"
   ]
  },
  {
   "cell_type": "markdown",
   "metadata": {},
   "source": [
    "After defining the chunk type, we can specify the token that the goal buffer will have at the start of modeling/simulation. The starting point only specifies what game we are playing. Let's call this starting chunk \"initial_chunk\"."
   ]
  },
  {
   "cell_type": "code",
   "execution_count": 3,
   "metadata": {},
   "outputs": [],
   "source": [
    "initial_chunk = actr.makechunk(typename=\"playgame\", game=\"memory\")"
   ]
  },
  {
   "cell_type": "markdown",
   "metadata": {},
   "source": [
    "Note that the chunk has a value specified for \"game\", but no value for \"activity\". The activity will be decided by the mind through production knowledge. Before we get there, we have to set the goal buffer in the model and add the initial chunk into it. This will represent the current goal of the mind."
   ]
  },
  {
   "cell_type": "code",
   "execution_count": 4,
   "metadata": {},
   "outputs": [],
   "source": [
    "goal = playing_memory.set_goal(\"goal\")"
   ]
  },
  {
   "cell_type": "code",
   "execution_count": 5,
   "metadata": {},
   "outputs": [],
   "source": [
    "goal.add(initial_chunk)"
   ]
  },
  {
   "cell_type": "markdown",
   "metadata": {},
   "source": [
    "Let us check that the initial chunk is in the goal buffer:"
   ]
  },
  {
   "cell_type": "code",
   "execution_count": 6,
   "metadata": {},
   "outputs": [
    {
     "name": "stdout",
     "output_type": "stream",
     "text": [
      "{playgame(activity= , game= memory)}\n"
     ]
    }
   ],
   "source": [
    "print(goal)"
   ]
  },
  {
   "cell_type": "markdown",
   "metadata": {},
   "source": [
    "Note that in printing, we automatically get to see all slots, but some slots might have no values.\n",
    "\n",
    "Let us now move onto production knowledge, which consist of production rules. Production rules are conditionalized actions. We will have only one rule: IF the goal is to play Tic-Tac-Toe and there is no activity yet, THEN plan an activity, namely, plan to press 1.\n",
    "\n",
    "The rule is specified below. It has to be inputed as a string, in which the part before \"==>\" describes the condition, and the part after \"==>\" is the action. Here, we say that if the chunk in the goal buffer has memory as the value of the slot \"game\" and no activity assigned, it will introduce a new activity as its goal, \"press\" (a key).\n",
    "\n",
    "Note how it is done:\n",
    "1. The first line in the string, \"=goal>\", specifies what buffer we condition on.\n",
    "2. The lines \"isa playgame\" up to \"activity None\" describe the chunk that must be in the buffer, otherwise the rule will not fire. Each line is a slot-value pair and the first line, \"isa playgame\" specifies what chunk type this is. Slot-value pairs can appear in any order.\n",
    "3. The line following \"==>\", \"=goal>\", specifies what buffer will be modified if the rule fires (in our case, the goal buffer will be modified).\n",
    "4. The last two lines describe how the chunk in the buffer is modified. Again, each line corresponds to one slot-value pair, and the line \"isa playgame\" specifies what chunk type the modified chunk is.\n",
    "\n",
    "Note that the method returns the actual rule, which gets printed in a condense, readable format."
   ]
  },
  {
   "cell_type": "code",
   "execution_count": 7,
   "metadata": {},
   "outputs": [
    {
     "data": {
      "text/plain": [
       "{'=goal': playgame(activity= None, game= memory)}\n",
       "==>\n",
       "{'=goal': playgame(activity= presskey, game= )}"
      ]
     },
     "execution_count": 7,
     "metadata": {},
     "output_type": "execute_result"
    }
   ],
   "source": [
    "playing_memory.productionstring(name=\"startplaying\", string=\"\"\"\n",
    "=goal>\n",
    "isa  playgame\n",
    "game memory\n",
    "activity None\n",
    "==>\n",
    "=goal>\n",
    "isa playgame\n",
    "activity presskey\"\"\") #this rule will be modified later"
   ]
  },
  {
   "cell_type": "markdown",
   "metadata": {},
   "source": [
    "This is all we need to do to specify the model. We can now run the simulation."
   ]
  },
  {
   "cell_type": "code",
   "execution_count": 8,
   "metadata": {},
   "outputs": [],
   "source": [
    "simulation_game = playing_memory.simulation()"
   ]
  },
  {
   "cell_type": "code",
   "execution_count": 9,
   "metadata": {},
   "outputs": [
    {
     "name": "stdout",
     "output_type": "stream",
     "text": [
      "(0, 'PROCEDURAL', 'CONFLICT RESOLUTION')\n",
      "(0, 'PROCEDURAL', 'RULE SELECTED: startplaying')\n",
      "(0.05, 'PROCEDURAL', 'RULE FIRED: startplaying')\n",
      "(0.05, 'goal', 'MODIFIED')\n",
      "(0.05, 'PROCEDURAL', 'CONFLICT RESOLUTION')\n",
      "(0.05, 'PROCEDURAL', 'NO RULE FOUND')\n"
     ]
    }
   ],
   "source": [
    "simulation_game.run()"
   ]
  },
  {
   "cell_type": "markdown",
   "metadata": {},
   "source": [
    "The simulation outputs a series of actions (called a trace). Each line in the trace specifies three things: the time at which the action took place (in seconds), what part of ACT-R model is affected, and what action is carried out.\n",
    "\n",
    "Running a (successful) simulation is usually the end point of ACT-R modeling. However, after we are done we can explore final stages of the mind. For instance, we can check what the goal buffer looks like at the end of the simulation. This confirms that our model worked correctly: it modified the value of \"activity\" in the goal buffer to pressing a key."
   ]
  },
  {
   "cell_type": "code",
   "execution_count": 10,
   "metadata": {},
   "outputs": [
    {
     "name": "stdout",
     "output_type": "stream",
     "text": [
      "{playgame(activity= presskey, game= memory)}\n"
     ]
    }
   ],
   "source": [
    "print(goal)"
   ]
  },
  {
   "cell_type": "markdown",
   "metadata": {},
   "source": [
    "A short side note on Python. Any buffer (including the goal buffer) is like a set (it inherits from Set) and several standard set operations are possible to apply to it. For instance, we can pop its only element from it."
   ]
  },
  {
   "cell_type": "code",
   "execution_count": 11,
   "metadata": {},
   "outputs": [
    {
     "name": "stdout",
     "output_type": "stream",
     "text": [
      "playgame(activity= presskey, game= memory)\n"
     ]
    }
   ],
   "source": [
    "final_chunk = goal.pop()\n",
    "print(final_chunk)"
   ]
  },
  {
   "cell_type": "markdown",
   "metadata": {},
   "source": [
    "Chunks inherit from named tuples. We can explore, for example, their length, we can iterate through them, we can check values of particular slots etc."
   ]
  },
  {
   "cell_type": "code",
   "execution_count": 12,
   "metadata": {},
   "outputs": [
    {
     "data": {
      "text/plain": [
       "2"
      ]
     },
     "execution_count": 12,
     "metadata": {},
     "output_type": "execute_result"
    }
   ],
   "source": [
    "len(final_chunk)"
   ]
  },
  {
   "cell_type": "code",
   "execution_count": 13,
   "metadata": {},
   "outputs": [
    {
     "name": "stdout",
     "output_type": "stream",
     "text": [
      "('activity', 'presskey')\n",
      "('game', memory)\n"
     ]
    }
   ],
   "source": [
    "for slot_value in final_chunk:\n",
    "    print(slot_value)"
   ]
  },
  {
   "cell_type": "code",
   "execution_count": 14,
   "metadata": {},
   "outputs": [
    {
     "name": "stdout",
     "output_type": "stream",
     "text": [
      "memory\n"
     ]
    }
   ],
   "source": [
    "print(final_chunk.game)"
   ]
  },
  {
   "cell_type": "markdown",
   "metadata": {},
   "source": [
    "# Model 2 - introduction to the motor module"
   ]
  },
  {
   "cell_type": "markdown",
   "metadata": {},
   "source": [
    "Our previous mind/model could fire one production rule. The rule planned a new activity, pressing a key. However, the model could not in any way carry out that action in the environment. That is, the model was just internal representation with no peripherals.\n",
    "\n",
    "We will now let the mind modify the environment through the motor module. The motor module can simulate a key press on a keyboard.\n",
    "\n",
    "The motor module will be affected in a new production rule. The production rule checks that our activity is \"presskey\". If this is so, the action will be carried out by a new buffer, manual (this is the buffer of the motor module). The buffer consists of a special chunk, \"\\_manual\", which is pre-specified in pyactr. The chunk has two slots, the slot \"cmd\", which describes the action (with a value \"press\\_key\"), and the slot \"key\", which specifies what key will be pressed.\n",
    "\n",
    "Here is the rule. As we will see in a second, this production rule is not completely correct, but it is a good starting point."
   ]
  },
  {
   "cell_type": "code",
   "execution_count": 15,
   "metadata": {},
   "outputs": [
    {
     "data": {
      "text/plain": [
       "{'=goal': playgame(activity= presskey, game= memory)}\n",
       "==>\n",
       "{'+manual': _manual(cmd= press_key, key= 1)}"
      ]
     },
     "execution_count": 15,
     "metadata": {},
     "output_type": "execute_result"
    }
   ],
   "source": [
    "playing_memory.productionstring(name=\"presskey\", string=\"\"\"\n",
    "=goal>\n",
    "isa  playgame\n",
    "game memory\n",
    "activity presskey\n",
    "==>\n",
    "+manual>\n",
    "isa _manual\n",
    "cmd press_key\n",
    "key 1\"\"\") #this rule is NOT correct"
   ]
  },
  {
   "cell_type": "markdown",
   "metadata": {},
   "source": [
    "Let us now run the model. We have to insert the starting chunk in the goal buffer and run the simulation. (By default, every simulation starts at time 0s.)"
   ]
  },
  {
   "cell_type": "code",
   "execution_count": 16,
   "metadata": {},
   "outputs": [],
   "source": [
    "goal.add(initial_chunk)"
   ]
  },
  {
   "cell_type": "code",
   "execution_count": 17,
   "metadata": {},
   "outputs": [
    {
     "name": "stdout",
     "output_type": "stream",
     "text": [
      "(0, 'PROCEDURAL', 'CONFLICT RESOLUTION')\n",
      "(0, 'PROCEDURAL', 'RULE SELECTED: startplaying')\n",
      "(0.05, 'PROCEDURAL', 'RULE FIRED: startplaying')\n",
      "(0.05, 'goal', 'MODIFIED')\n",
      "(0.05, 'PROCEDURAL', 'CONFLICT RESOLUTION')\n",
      "(0.05, 'PROCEDURAL', 'RULE SELECTED: presskey')\n",
      "(0.1, 'PROCEDURAL', 'RULE FIRED: presskey')\n",
      "(0.1, 'manual', 'COMMAND: press_key')\n",
      "(0.1, 'PROCEDURAL', 'CONFLICT RESOLUTION')\n",
      "(0.1, 'PROCEDURAL', 'RULE SELECTED: presskey')\n",
      "(0.15, 'PROCEDURAL', 'RULE FIRED: presskey')\n",
      "(0.15, 'manual', 'COMMAND: press_key')\n",
      "(0.15, 'PROCEDURAL', 'CONFLICT RESOLUTION')\n",
      "(0.15, 'PROCEDURAL', 'RULE SELECTED: presskey')\n",
      "(0.2, 'PROCEDURAL', 'RULE FIRED: presskey')\n",
      "(0.2, 'manual', 'COMMAND: press_key')\n",
      "(0.2, 'PROCEDURAL', 'CONFLICT RESOLUTION')\n",
      "(0.2, 'PROCEDURAL', 'RULE SELECTED: presskey')\n",
      "(0.25, 'PROCEDURAL', 'RULE FIRED: presskey')\n",
      "(0.25, 'manual', 'COMMAND: press_key')\n",
      "(0.25, 'PROCEDURAL', 'CONFLICT RESOLUTION')\n",
      "(0.25, 'PROCEDURAL', 'RULE SELECTED: presskey')\n",
      "(0.3, 'PROCEDURAL', 'RULE FIRED: presskey')\n",
      "(0.3, 'manual', 'COMMAND: press_key')\n",
      "(0.3, 'PROCEDURAL', 'CONFLICT RESOLUTION')\n",
      "(0.3, 'PROCEDURAL', 'RULE SELECTED: presskey')\n",
      "(0.35, 'PROCEDURAL', 'RULE FIRED: presskey')\n",
      "(0.35, 'manual', 'COMMAND: press_key')\n",
      "(0.35, 'PROCEDURAL', 'CONFLICT RESOLUTION')\n",
      "(0.35, 'PROCEDURAL', 'RULE SELECTED: presskey')\n",
      "(0.4, 'PROCEDURAL', 'RULE FIRED: presskey')\n",
      "(0.4, 'manual', 'COMMAND: press_key')\n",
      "(0.4, 'PROCEDURAL', 'CONFLICT RESOLUTION')\n",
      "(0.4, 'PROCEDURAL', 'RULE SELECTED: presskey')\n",
      "(0.45, 'PROCEDURAL', 'RULE FIRED: presskey')\n",
      "(0.45, 'manual', 'COMMAND: press_key')\n",
      "(0.45, 'PROCEDURAL', 'CONFLICT RESOLUTION')\n",
      "(0.45, 'PROCEDURAL', 'RULE SELECTED: presskey')\n",
      "(0.5, 'PROCEDURAL', 'RULE FIRED: presskey')\n",
      "(0.5, 'manual', 'COMMAND: press_key')\n",
      "(0.5, 'PROCEDURAL', 'CONFLICT RESOLUTION')\n",
      "(0.5, 'PROCEDURAL', 'RULE SELECTED: presskey')\n",
      "(0.55, 'PROCEDURAL', 'RULE FIRED: presskey')\n",
      "(0.55, 'manual', 'COMMAND: press_key')\n",
      "(0.55, 'PROCEDURAL', 'CONFLICT RESOLUTION')\n",
      "(0.55, 'PROCEDURAL', 'RULE SELECTED: presskey')\n",
      "(0.6, 'PROCEDURAL', 'RULE FIRED: presskey')\n",
      "(0.6, 'manual', 'COMMAND: press_key')\n",
      "(0.6, 'PROCEDURAL', 'CONFLICT RESOLUTION')\n",
      "(0.6, 'PROCEDURAL', 'RULE SELECTED: presskey')\n",
      "(0.65, 'PROCEDURAL', 'RULE FIRED: presskey')\n",
      "(0.65, 'manual', 'COMMAND: press_key')\n",
      "(0.65, 'PROCEDURAL', 'CONFLICT RESOLUTION')\n",
      "(0.65, 'PROCEDURAL', 'RULE SELECTED: presskey')\n",
      "(0.7, 'PROCEDURAL', 'RULE FIRED: presskey')\n",
      "(0.7, 'manual', 'COMMAND: press_key')\n",
      "(0.7, 'PROCEDURAL', 'CONFLICT RESOLUTION')\n",
      "(0.7, 'PROCEDURAL', 'RULE SELECTED: presskey')\n",
      "(0.75, 'PROCEDURAL', 'RULE FIRED: presskey')\n",
      "(0.75, 'manual', 'COMMAND: press_key')\n",
      "(0.75, 'PROCEDURAL', 'CONFLICT RESOLUTION')\n",
      "(0.75, 'PROCEDURAL', 'RULE SELECTED: presskey')\n",
      "(0.8, 'PROCEDURAL', 'RULE FIRED: presskey')\n",
      "(0.8, 'manual', 'COMMAND: press_key')\n",
      "(0.8, 'PROCEDURAL', 'CONFLICT RESOLUTION')\n",
      "(0.8, 'PROCEDURAL', 'RULE SELECTED: presskey')\n",
      "(0.85, 'PROCEDURAL', 'RULE FIRED: presskey')\n",
      "(0.85, 'manual', 'COMMAND: press_key')\n",
      "(0.85, 'PROCEDURAL', 'CONFLICT RESOLUTION')\n",
      "(0.85, 'PROCEDURAL', 'RULE SELECTED: presskey')\n",
      "(0.9, 'PROCEDURAL', 'RULE FIRED: presskey')\n",
      "(0.9, 'manual', 'COMMAND: press_key')\n",
      "(0.9, 'PROCEDURAL', 'CONFLICT RESOLUTION')\n",
      "(0.9, 'PROCEDURAL', 'RULE SELECTED: presskey')\n",
      "(0.95, 'PROCEDURAL', 'RULE FIRED: presskey')\n",
      "(0.95, 'manual', 'COMMAND: press_key')\n",
      "(0.95, 'PROCEDURAL', 'CONFLICT RESOLUTION')\n",
      "(0.95, 'PROCEDURAL', 'RULE SELECTED: presskey')\n"
     ]
    },
    {
     "name": "stderr",
     "output_type": "stream",
     "text": [
      "/home/jakub/Documents/moje/computations and corpora/python/pyactr/pyactr/simulation.py:167: UserWarning: Process in manual interupted\n",
      "  warnings.warn(\"Process in %s interupted\" % name)\n"
     ]
    }
   ],
   "source": [
    "simulation_game = playing_memory.simulation()\n",
    "simulation_game.run()"
   ]
  },
  {
   "cell_type": "markdown",
   "metadata": {},
   "source": [
    "Ok, this looks promising, but not entirely right. The first two rules apply correctly, but afterwards the model gets into a loop: it fires the rule \"presskey\", but before the key 1 can be pressed, it fires the rule again, and again and again. That the model never gets a chance to actually press the button can be seen from the warning that the manual process is (repeatedly) interrupted.\n",
    "\n",
    "The problem is that the action of the rule \"presskey\" only affects the environment. Since the internal stage of the model did not change, the rule can fire again and again, creating a loop.\n",
    "\n",
    "We can avoid this behavior by specifying two actions in the rule:\n",
    "1. The manual buffer has to press a key\n",
    "2. The goal buffer has to be modified; in particular, we can delete its activity since it has been taken over by the motor module"
   ]
  },
  {
   "cell_type": "code",
   "execution_count": 18,
   "metadata": {},
   "outputs": [
    {
     "data": {
      "text/plain": [
       "{'=goal': playgame(activity= presskey, game= memory)}\n",
       "==>\n",
       "{'+manual': _manual(cmd= press_key, key= 1), '=goal': playgame(activity= None, game= )}"
      ]
     },
     "execution_count": 18,
     "metadata": {},
     "output_type": "execute_result"
    }
   ],
   "source": [
    "playing_memory.productionstring(name=\"presskey\", string=\"\"\"\n",
    "=goal>\n",
    "isa  playgame\n",
    "game memory\n",
    "activity presskey\n",
    "==>\n",
    "+manual>\n",
    "isa _manual\n",
    "cmd press_key\n",
    "key 1\n",
    "=goal>\n",
    "isa playgame\n",
    "activity None\"\"\") #this rule works correctly"
   ]
  },
  {
   "cell_type": "markdown",
   "metadata": {},
   "source": [
    "Let's see how this works."
   ]
  },
  {
   "cell_type": "code",
   "execution_count": 19,
   "metadata": {},
   "outputs": [],
   "source": [
    "goal.add(initial_chunk)"
   ]
  },
  {
   "cell_type": "code",
   "execution_count": 20,
   "metadata": {},
   "outputs": [
    {
     "name": "stdout",
     "output_type": "stream",
     "text": [
      "(0, 'PROCEDURAL', 'CONFLICT RESOLUTION')\n",
      "(0, 'PROCEDURAL', 'RULE SELECTED: startplaying')\n",
      "(0.05, 'PROCEDURAL', 'RULE FIRED: startplaying')\n",
      "(0.05, 'goal', 'MODIFIED')\n",
      "(0.05, 'PROCEDURAL', 'CONFLICT RESOLUTION')\n",
      "(0.05, 'PROCEDURAL', 'RULE SELECTED: presskey')\n",
      "(0.1, 'PROCEDURAL', 'RULE FIRED: presskey')\n",
      "(0.1, 'goal', 'MODIFIED')\n",
      "(0.1, 'manual', 'COMMAND: press_key')\n",
      "(0.1, 'PROCEDURAL', 'CONFLICT RESOLUTION')\n",
      "(0.1, 'PROCEDURAL', 'RULE SELECTED: startplaying')\n",
      "(0.15, 'PROCEDURAL', 'RULE FIRED: startplaying')\n",
      "(0.15, 'goal', 'MODIFIED')\n",
      "(0.15, 'PROCEDURAL', 'CONFLICT RESOLUTION')\n",
      "(0.15, 'PROCEDURAL', 'RULE SELECTED: presskey')\n",
      "(0.2, 'PROCEDURAL', 'RULE FIRED: presskey')\n",
      "(0.2, 'goal', 'MODIFIED')\n",
      "(0.2, 'manual', 'COMMAND: press_key')\n",
      "(0.2, 'PROCEDURAL', 'CONFLICT RESOLUTION')\n",
      "(0.2, 'PROCEDURAL', 'RULE SELECTED: startplaying')\n",
      "(0.25, 'PROCEDURAL', 'RULE FIRED: startplaying')\n",
      "(0.25, 'goal', 'MODIFIED')\n",
      "(0.25, 'PROCEDURAL', 'CONFLICT RESOLUTION')\n",
      "(0.25, 'PROCEDURAL', 'RULE SELECTED: presskey')\n",
      "(0.3, 'PROCEDURAL', 'RULE FIRED: presskey')\n",
      "(0.3, 'goal', 'MODIFIED')\n",
      "(0.3, 'manual', 'COMMAND: press_key')\n",
      "(0.3, 'PROCEDURAL', 'CONFLICT RESOLUTION')\n",
      "(0.3, 'PROCEDURAL', 'RULE SELECTED: startplaying')\n",
      "(0.35, 'PROCEDURAL', 'RULE FIRED: startplaying')\n",
      "(0.35, 'goal', 'MODIFIED')\n",
      "(0.35, 'PROCEDURAL', 'CONFLICT RESOLUTION')\n",
      "(0.35, 'PROCEDURAL', 'RULE SELECTED: presskey')\n",
      "(0.4, 'PROCEDURAL', 'RULE FIRED: presskey')\n",
      "(0.4, 'goal', 'MODIFIED')\n",
      "(0.4, 'manual', 'COMMAND: press_key')\n",
      "(0.4, 'PROCEDURAL', 'CONFLICT RESOLUTION')\n",
      "(0.4, 'PROCEDURAL', 'RULE SELECTED: startplaying')\n",
      "(0.45, 'PROCEDURAL', 'RULE FIRED: startplaying')\n",
      "(0.45, 'goal', 'MODIFIED')\n",
      "(0.45, 'PROCEDURAL', 'CONFLICT RESOLUTION')\n",
      "(0.45, 'PROCEDURAL', 'RULE SELECTED: presskey')\n",
      "(0.5, 'PROCEDURAL', 'RULE FIRED: presskey')\n",
      "(0.5, 'goal', 'MODIFIED')\n",
      "(0.5, 'manual', 'COMMAND: press_key')\n",
      "(0.5, 'PROCEDURAL', 'CONFLICT RESOLUTION')\n",
      "(0.5, 'PROCEDURAL', 'RULE SELECTED: startplaying')\n",
      "(0.55, 'PROCEDURAL', 'RULE FIRED: startplaying')\n",
      "(0.55, 'goal', 'MODIFIED')\n",
      "(0.55, 'PROCEDURAL', 'CONFLICT RESOLUTION')\n",
      "(0.55, 'PROCEDURAL', 'RULE SELECTED: presskey')\n",
      "(0.6, 'PROCEDURAL', 'RULE FIRED: presskey')\n",
      "(0.6, 'goal', 'MODIFIED')\n",
      "(0.6, 'manual', 'COMMAND: press_key')\n",
      "(0.6, 'PROCEDURAL', 'CONFLICT RESOLUTION')\n",
      "(0.6, 'PROCEDURAL', 'RULE SELECTED: startplaying')\n",
      "(0.65, 'PROCEDURAL', 'RULE FIRED: startplaying')\n",
      "(0.65, 'goal', 'MODIFIED')\n",
      "(0.65, 'PROCEDURAL', 'CONFLICT RESOLUTION')\n",
      "(0.65, 'PROCEDURAL', 'RULE SELECTED: presskey')\n",
      "(0.7, 'PROCEDURAL', 'RULE FIRED: presskey')\n",
      "(0.7, 'goal', 'MODIFIED')\n",
      "(0.7, 'manual', 'COMMAND: press_key')\n",
      "(0.7, 'PROCEDURAL', 'CONFLICT RESOLUTION')\n",
      "(0.7, 'PROCEDURAL', 'RULE SELECTED: startplaying')\n",
      "(0.75, 'PROCEDURAL', 'RULE FIRED: startplaying')\n",
      "(0.75, 'goal', 'MODIFIED')\n",
      "(0.75, 'PROCEDURAL', 'CONFLICT RESOLUTION')\n",
      "(0.75, 'PROCEDURAL', 'RULE SELECTED: presskey')\n",
      "(0.8, 'PROCEDURAL', 'RULE FIRED: presskey')\n",
      "(0.8, 'goal', 'MODIFIED')\n",
      "(0.8, 'manual', 'COMMAND: press_key')\n",
      "(0.8, 'PROCEDURAL', 'CONFLICT RESOLUTION')\n",
      "(0.8, 'PROCEDURAL', 'RULE SELECTED: startplaying')\n",
      "(0.85, 'PROCEDURAL', 'RULE FIRED: startplaying')\n",
      "(0.85, 'goal', 'MODIFIED')\n",
      "(0.85, 'PROCEDURAL', 'CONFLICT RESOLUTION')\n",
      "(0.85, 'PROCEDURAL', 'RULE SELECTED: presskey')\n",
      "(0.9, 'PROCEDURAL', 'RULE FIRED: presskey')\n",
      "(0.9, 'goal', 'MODIFIED')\n",
      "(0.9, 'manual', 'COMMAND: press_key')\n",
      "(0.9, 'PROCEDURAL', 'CONFLICT RESOLUTION')\n",
      "(0.9, 'PROCEDURAL', 'RULE SELECTED: startplaying')\n",
      "(0.95, 'PROCEDURAL', 'RULE FIRED: startplaying')\n",
      "(0.95, 'goal', 'MODIFIED')\n",
      "(0.95, 'PROCEDURAL', 'CONFLICT RESOLUTION')\n",
      "(0.95, 'PROCEDURAL', 'RULE SELECTED: presskey')\n"
     ]
    },
    {
     "name": "stderr",
     "output_type": "stream",
     "text": [
      "/home/jakub/Documents/moje/computations and corpora/python/pyactr/pyactr/simulation.py:167: UserWarning: Process in manual interupted\n",
      "  warnings.warn(\"Process in %s interupted\" % name)\n"
     ]
    }
   ],
   "source": [
    "simulation_game = playing_memory.simulation()\n",
    "simulation_game.run()"
   ]
  },
  {
   "cell_type": "markdown",
   "metadata": {},
   "source": [
    "Ok, this is better but it is still not perfect. Instead of looping on the \"presskey\" rule, we created a two-rule loop: \"startplaying\" + \"presskey\". This might not be bad in its own right but it is a problem here. The two rules keep looping so quickly that the model never gets a chance to actually press the button (this is signaled in the warning again).\n",
    "\n",
    "To avoid this issue, we have to modify our original rule \"startplaying\". We have to modify it, so that \"startplaying\" only fires if the manual buffer is not trying to press a key. The rule doing just that is given below. The crucial new bit is in the lines 6 and 7. These lines query on the status of the manual buffer. Querying is signaled as \"?manual>\", and the line \"state free\" checks in what state the buffer is - \"state free\" means that the buffer must not carry out any action, otherwise the rule cannot fire (apart from this, two other common queries are \"state busy\", which checks whether the buffer is busy, and \"state error\", which checks whether the action of the buffer ended up in an error - this last option is irrelevant in case of the manual buffer, though)."
   ]
  },
  {
   "cell_type": "code",
   "execution_count": 21,
   "metadata": {},
   "outputs": [
    {
     "data": {
      "text/plain": [
       "{'?manual': {'state': 'free'}, '=goal': playgame(activity= None, game= memory)}\n",
       "==>\n",
       "{'=goal': playgame(activity= presskey, game= )}"
      ]
     },
     "execution_count": 21,
     "metadata": {},
     "output_type": "execute_result"
    }
   ],
   "source": [
    "playing_memory.productionstring(name=\"startplaying\", string=\"\"\"\n",
    "=goal>\n",
    "isa  playgame\n",
    "game memory\n",
    "activity None\n",
    "?manual>\n",
    "state free\n",
    "==>\n",
    "=goal>\n",
    "isa playgame\n",
    "activity presskey\"\"\")"
   ]
  },
  {
   "cell_type": "code",
   "execution_count": 22,
   "metadata": {},
   "outputs": [],
   "source": [
    "goal.add(initial_chunk)"
   ]
  },
  {
   "cell_type": "code",
   "execution_count": 23,
   "metadata": {},
   "outputs": [
    {
     "name": "stdout",
     "output_type": "stream",
     "text": [
      "(0, 'PROCEDURAL', 'CONFLICT RESOLUTION')\n",
      "(0, 'PROCEDURAL', 'RULE SELECTED: startplaying')\n",
      "(0.05, 'PROCEDURAL', 'RULE FIRED: startplaying')\n",
      "(0.05, 'goal', 'MODIFIED')\n",
      "(0.05, 'PROCEDURAL', 'CONFLICT RESOLUTION')\n",
      "(0.05, 'PROCEDURAL', 'RULE SELECTED: presskey')\n",
      "(0.1, 'PROCEDURAL', 'RULE FIRED: presskey')\n",
      "(0.1, 'goal', 'MODIFIED')\n",
      "(0.1, 'manual', 'COMMAND: press_key')\n",
      "(0.1, 'PROCEDURAL', 'CONFLICT RESOLUTION')\n",
      "(0.1, 'PROCEDURAL', 'NO RULE FOUND')\n",
      "(0.35, 'manual', 'PREPARATION COMPLETE')\n",
      "(0.35, 'PROCEDURAL', 'CONFLICT RESOLUTION')\n",
      "(0.35, 'PROCEDURAL', 'NO RULE FOUND')\n",
      "(0.4, 'manual', 'INITIATION COMPLETE')\n",
      "(0.4, 'PROCEDURAL', 'CONFLICT RESOLUTION')\n",
      "(0.4, 'PROCEDURAL', 'NO RULE FOUND')\n",
      "(0.5, 'manual', 'KEY PRESSED: 1')\n",
      "(0.5, 'PROCEDURAL', 'CONFLICT RESOLUTION')\n",
      "(0.5, 'PROCEDURAL', 'NO RULE FOUND')\n",
      "(0.65, 'manual', 'MOVEMENT FINISHED')\n",
      "(0.65, 'PROCEDURAL', 'CONFLICT RESOLUTION')\n",
      "(0.65, 'PROCEDURAL', 'RULE SELECTED: startplaying')\n",
      "(0.7, 'PROCEDURAL', 'RULE FIRED: startplaying')\n",
      "(0.7, 'goal', 'MODIFIED')\n",
      "(0.7, 'PROCEDURAL', 'CONFLICT RESOLUTION')\n",
      "(0.7, 'PROCEDURAL', 'RULE SELECTED: presskey')\n",
      "(0.75, 'PROCEDURAL', 'RULE FIRED: presskey')\n",
      "(0.75, 'goal', 'MODIFIED')\n",
      "(0.75, 'manual', 'COMMAND: press_key')\n",
      "(0.75, 'manual', 'PREPARATION COMPLETE')\n",
      "(0.75, 'PROCEDURAL', 'CONFLICT RESOLUTION')\n",
      "(0.75, 'PROCEDURAL', 'NO RULE FOUND')\n",
      "(0.8, 'manual', 'INITIATION COMPLETE')\n",
      "(0.8, 'PROCEDURAL', 'CONFLICT RESOLUTION')\n",
      "(0.8, 'PROCEDURAL', 'NO RULE FOUND')\n",
      "(0.9, 'manual', 'KEY PRESSED: 1')\n",
      "(0.9, 'PROCEDURAL', 'CONFLICT RESOLUTION')\n",
      "(0.9, 'PROCEDURAL', 'NO RULE FOUND')\n"
     ]
    }
   ],
   "source": [
    "simulation_game = playing_memory.simulation()\n",
    "simulation_game.run()"
   ]
  },
  {
   "cell_type": "markdown",
   "metadata": {},
   "source": [
    "Now we finally got somewhere. The trace shows that a key was pressed (at 0.5s). You can also see that pressing a key has various stages. First, the action is prepared (at 0.35s), then it is initiated (at 0.4s), and at 0.5s the key is pressed. After that, the movement is finished (it is assumed that the fingers of the model are at the home row of the keyboard, so that finishing the movement entails that the finger has moved back to its original position, a key in the home row). Details are not important here (the motor model simulating typing is taken in ACT-R from EPIC; check EPIC or ACT-R documentation for justification of these stages).\n",
    "\n",
    "Notice that we still have a loop here. Unlike in the previous cases, though, the loop does not block key presses from taking place.\n",
    "\n",
    "Ok, this does not look too bad, but it is not much realistic either. Our mind does not seem to be engaging in playing Memory, our mind is a maniac who keeps pressing the key 1 until the time runs out. This is not a game (unless you consider a repeated pressing of a \"1\" a game). How to make it look more like Memory? Read on."
   ]
  }
 ],
 "metadata": {
  "kernelspec": {
   "display_name": "Python 3",
   "language": "python",
   "name": "python3"
  },
  "language_info": {
   "codemirror_mode": {
    "name": "ipython",
    "version": 3
   },
   "file_extension": ".py",
   "mimetype": "text/x-python",
   "name": "python",
   "nbconvert_exporter": "python",
   "pygments_lexer": "ipython3",
   "version": "3.5.2"
  }
 },
 "nbformat": 4,
 "nbformat_minor": 2
}
